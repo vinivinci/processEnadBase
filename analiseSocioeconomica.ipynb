{
 "cells": [
  {
   "cell_type": "markdown",
   "metadata": {},
   "source": [
    "##### Selecionando apenas as colunas que nos interessam:"
   ]
  },
  {
   "cell_type": "code",
   "execution_count": 1,
   "metadata": {},
   "outputs": [],
   "source": [
    "#Importando Pacote Pandas\n",
    "import pandas as pd\n",
    "\n",
    "#Importando Base de Dados\n",
    "microdadosEnem = pd.read_csv(\"microdados_enem_2019/DADOS/MICRODADOS_ENEM_2019.csv\", sep=\";\", encoding='ISO-8859-1') "
   ]
  },
  {
   "cell_type": "markdown",
   "metadata": {},
   "source": [
    "##### Criarmos um novo Dataframe apenas com os dados que serão analisados:"
   ]
  },
  {
   "cell_type": "code",
   "execution_count": 2,
   "metadata": {},
   "outputs": [],
   "source": [
    "colunaSelecionadas = ['NU_INSCRICAO','NU_NOTA_MT','NU_NOTA_REDACAO','Q001','Q002']"
   ]
  },
  {
   "cell_type": "markdown",
   "metadata": {},
   "source": [
    "##### Visualizar a cabeça (head) do Dataframe:"
   ]
  },
  {
   "cell_type": "code",
   "execution_count": 3,
   "metadata": {},
   "outputs": [],
   "source": [
    "microdadosEnemSelecionados = microdadosEnem.filter(items=colunaSelecionadas)"
   ]
  },
  {
   "cell_type": "code",
   "execution_count": 4,
   "metadata": {},
   "outputs": [
    {
     "data": {
      "text/html": [
       "<div>\n",
       "<style scoped>\n",
       "    .dataframe tbody tr th:only-of-type {\n",
       "        vertical-align: middle;\n",
       "    }\n",
       "\n",
       "    .dataframe tbody tr th {\n",
       "        vertical-align: top;\n",
       "    }\n",
       "\n",
       "    .dataframe thead th {\n",
       "        text-align: right;\n",
       "    }\n",
       "</style>\n",
       "<table border=\"1\" class=\"dataframe\">\n",
       "  <thead>\n",
       "    <tr style=\"text-align: right;\">\n",
       "      <th></th>\n",
       "      <th>NU_INSCRICAO</th>\n",
       "      <th>NU_NOTA_MT</th>\n",
       "      <th>NU_NOTA_REDACAO</th>\n",
       "      <th>Q001</th>\n",
       "      <th>Q002</th>\n",
       "    </tr>\n",
       "  </thead>\n",
       "  <tbody>\n",
       "    <tr>\n",
       "      <th>0</th>\n",
       "      <td>190001595656</td>\n",
       "      <td>NaN</td>\n",
       "      <td>NaN</td>\n",
       "      <td>B</td>\n",
       "      <td>B</td>\n",
       "    </tr>\n",
       "    <tr>\n",
       "      <th>1</th>\n",
       "      <td>190001421546</td>\n",
       "      <td>NaN</td>\n",
       "      <td>NaN</td>\n",
       "      <td>C</td>\n",
       "      <td>E</td>\n",
       "    </tr>\n",
       "    <tr>\n",
       "      <th>2</th>\n",
       "      <td>190001133210</td>\n",
       "      <td>NaN</td>\n",
       "      <td>NaN</td>\n",
       "      <td>E</td>\n",
       "      <td>E</td>\n",
       "    </tr>\n",
       "    <tr>\n",
       "      <th>3</th>\n",
       "      <td>190001199383</td>\n",
       "      <td>392.0</td>\n",
       "      <td>460.0</td>\n",
       "      <td>C</td>\n",
       "      <td>E</td>\n",
       "    </tr>\n",
       "    <tr>\n",
       "      <th>4</th>\n",
       "      <td>190001237802</td>\n",
       "      <td>677.0</td>\n",
       "      <td>860.0</td>\n",
       "      <td>E</td>\n",
       "      <td>E</td>\n",
       "    </tr>\n",
       "  </tbody>\n",
       "</table>\n",
       "</div>"
      ],
      "text/plain": [
       "   NU_INSCRICAO  NU_NOTA_MT  NU_NOTA_REDACAO Q001 Q002\n",
       "0  190001595656         NaN              NaN    B    B\n",
       "1  190001421546         NaN              NaN    C    E\n",
       "2  190001133210         NaN              NaN    E    E\n",
       "3  190001199383       392.0            460.0    C    E\n",
       "4  190001237802       677.0            860.0    E    E"
      ]
     },
     "execution_count": 4,
     "metadata": {},
     "output_type": "execute_result"
    }
   ],
   "source": [
    "microdadosEnemSelecionados.head()"
   ]
  },
  {
   "cell_type": "markdown",
   "metadata": {},
   "source": [
    "##### O que é esse tal de NaN?\n",
    "NaN: significa Not a Number, que quer dizer que não é um número."
   ]
  },
  {
   "cell_type": "code",
   "execution_count": 5,
   "metadata": {},
   "outputs": [],
   "source": [
    "microdadosEnemSelecionados = microdadosEnemSelecionados.dropna()"
   ]
  },
  {
   "cell_type": "code",
   "execution_count": 6,
   "metadata": {},
   "outputs": [
    {
     "data": {
      "text/html": [
       "<div>\n",
       "<style scoped>\n",
       "    .dataframe tbody tr th:only-of-type {\n",
       "        vertical-align: middle;\n",
       "    }\n",
       "\n",
       "    .dataframe tbody tr th {\n",
       "        vertical-align: top;\n",
       "    }\n",
       "\n",
       "    .dataframe thead th {\n",
       "        text-align: right;\n",
       "    }\n",
       "</style>\n",
       "<table border=\"1\" class=\"dataframe\">\n",
       "  <thead>\n",
       "    <tr style=\"text-align: right;\">\n",
       "      <th></th>\n",
       "      <th>NU_INSCRICAO</th>\n",
       "      <th>NU_NOTA_MT</th>\n",
       "      <th>NU_NOTA_REDACAO</th>\n",
       "      <th>Q001</th>\n",
       "      <th>Q002</th>\n",
       "    </tr>\n",
       "  </thead>\n",
       "  <tbody>\n",
       "    <tr>\n",
       "      <th>3</th>\n",
       "      <td>190001199383</td>\n",
       "      <td>392.0</td>\n",
       "      <td>460.0</td>\n",
       "      <td>C</td>\n",
       "      <td>E</td>\n",
       "    </tr>\n",
       "    <tr>\n",
       "      <th>4</th>\n",
       "      <td>190001237802</td>\n",
       "      <td>677.0</td>\n",
       "      <td>860.0</td>\n",
       "      <td>E</td>\n",
       "      <td>E</td>\n",
       "    </tr>\n",
       "    <tr>\n",
       "      <th>5</th>\n",
       "      <td>190001782198</td>\n",
       "      <td>675.3</td>\n",
       "      <td>800.0</td>\n",
       "      <td>B</td>\n",
       "      <td>B</td>\n",
       "    </tr>\n",
       "    <tr>\n",
       "      <th>6</th>\n",
       "      <td>190001421548</td>\n",
       "      <td>594.7</td>\n",
       "      <td>600.0</td>\n",
       "      <td>E</td>\n",
       "      <td>B</td>\n",
       "    </tr>\n",
       "    <tr>\n",
       "      <th>9</th>\n",
       "      <td>190001592266</td>\n",
       "      <td>480.7</td>\n",
       "      <td>400.0</td>\n",
       "      <td>E</td>\n",
       "      <td>E</td>\n",
       "    </tr>\n",
       "  </tbody>\n",
       "</table>\n",
       "</div>"
      ],
      "text/plain": [
       "   NU_INSCRICAO  NU_NOTA_MT  NU_NOTA_REDACAO Q001 Q002\n",
       "3  190001199383       392.0            460.0    C    E\n",
       "4  190001237802       677.0            860.0    E    E\n",
       "5  190001782198       675.3            800.0    B    B\n",
       "6  190001421548       594.7            600.0    E    B\n",
       "9  190001592266       480.7            400.0    E    E"
      ]
     },
     "execution_count": 6,
     "metadata": {},
     "output_type": "execute_result"
    }
   ],
   "source": [
    "microdadosEnemSelecionados.head()"
   ]
  },
  {
   "cell_type": "markdown",
   "metadata": {},
   "source": [
    "#### Finalmente: O questionário de indicadores socioeconômicos!\n",
    "Começaremos pelas duas primeiras questões:\n",
    "\n",
    "    Q001: Até que série seu pai, ou o homem responsável por você, estudou?\n",
    "    Q002: Até que série sua mãe, ou a mulher responsável por você, estudou?\n",
    "\n",
    "##### Passo 1 - Definirmos um dicionário:\n",
    "  Faremos isso para visualizar melhor o resultado"
   ]
  },
  {
   "cell_type": "code",
   "execution_count": 7,
   "metadata": {},
   "outputs": [],
   "source": [
    "dicionarioQuestao = {\n",
    "  'A' :\t'Nunca estudou.',\n",
    "  'B'\t: 'Não completou a 4ª série/5º ano do Ensino Fundamental.',\n",
    "  'C'\t: 'Completou a 4ª série/5º ano, mas não completou a 8ª série/9º ano do Ensino Fundamental.',\n",
    "  'D'\t: 'Completou a 8ª série/9º ano do Ensino Fundamental, mas não completou o Ensino Médio.',\n",
    "  'E'\t: 'Completou o Ensino Médio, mas não completou a Faculdade.',\n",
    "  'F'\t: 'Completou a Faculdade, mas não completou a Pós-graduação.',\n",
    "  'G'\t: 'Completou a Pós-graduação.',\n",
    "  'H'\t: 'Não sei.'\n",
    "}"
   ]
  },
  {
   "cell_type": "code",
   "execution_count": 9,
   "metadata": {},
   "outputs": [
    {
     "data": {
      "text/html": [
       "<div>\n",
       "<style scoped>\n",
       "    .dataframe tbody tr th:only-of-type {\n",
       "        vertical-align: middle;\n",
       "    }\n",
       "\n",
       "    .dataframe tbody tr th {\n",
       "        vertical-align: top;\n",
       "    }\n",
       "\n",
       "    .dataframe thead th {\n",
       "        text-align: right;\n",
       "    }\n",
       "</style>\n",
       "<table border=\"1\" class=\"dataframe\">\n",
       "  <thead>\n",
       "    <tr style=\"text-align: right;\">\n",
       "      <th></th>\n",
       "      <th>NU_INSCRICAO</th>\n",
       "    </tr>\n",
       "    <tr>\n",
       "      <th>Q001</th>\n",
       "      <th></th>\n",
       "    </tr>\n",
       "  </thead>\n",
       "  <tbody>\n",
       "    <tr>\n",
       "      <th>A</th>\n",
       "      <td>186183</td>\n",
       "    </tr>\n",
       "    <tr>\n",
       "      <th>B</th>\n",
       "      <td>752547</td>\n",
       "    </tr>\n",
       "    <tr>\n",
       "      <th>C</th>\n",
       "      <td>515771</td>\n",
       "    </tr>\n",
       "    <tr>\n",
       "      <th>D</th>\n",
       "      <td>433183</td>\n",
       "    </tr>\n",
       "    <tr>\n",
       "      <th>E</th>\n",
       "      <td>1006235</td>\n",
       "    </tr>\n",
       "    <tr>\n",
       "      <th>F</th>\n",
       "      <td>308305</td>\n",
       "    </tr>\n",
       "    <tr>\n",
       "      <th>G</th>\n",
       "      <td>193523</td>\n",
       "    </tr>\n",
       "    <tr>\n",
       "      <th>H</th>\n",
       "      <td>306162</td>\n",
       "    </tr>\n",
       "  </tbody>\n",
       "</table>\n",
       "</div>"
      ],
      "text/plain": [
       "      NU_INSCRICAO\n",
       "Q001              \n",
       "A           186183\n",
       "B           752547\n",
       "C           515771\n",
       "D           433183\n",
       "E          1006235\n",
       "F           308305\n",
       "G           193523\n",
       "H           306162"
      ]
     },
     "execution_count": 9,
     "metadata": {},
     "output_type": "execute_result"
    }
   ],
   "source": [
    "microdadosEnemSelecionados.filter(items=['Q001', 'NU_INSCRICAO']).groupby('Q001').count()"
   ]
  },
  {
   "cell_type": "markdown",
   "metadata": {},
   "source": [
    "##### Passo 2 - Criar novas colunas no Dataframe:\n",
    "Inserir coluna NO_Q001 e NO_Q002:"
   ]
  },
  {
   "cell_type": "code",
   "execution_count": 9,
   "metadata": {},
   "outputs": [],
   "source": [
    "microdadosEnemSelecionados['NO_Q001'] = [dicionarioQuestao[resp] for resp in microdadosEnemSelecionados.Q001]"
   ]
  },
  {
   "cell_type": "code",
   "execution_count": 10,
   "metadata": {},
   "outputs": [],
   "source": [
    "microdadosEnemSelecionados['NO_Q002'] = [dicionarioQuestao[resp] for resp in microdadosEnemSelecionados.Q002]"
   ]
  },
  {
   "cell_type": "code",
   "execution_count": 11,
   "metadata": {},
   "outputs": [
    {
     "data": {
      "text/html": [
       "<div>\n",
       "<style scoped>\n",
       "    .dataframe tbody tr th:only-of-type {\n",
       "        vertical-align: middle;\n",
       "    }\n",
       "\n",
       "    .dataframe tbody tr th {\n",
       "        vertical-align: top;\n",
       "    }\n",
       "\n",
       "    .dataframe thead th {\n",
       "        text-align: right;\n",
       "    }\n",
       "</style>\n",
       "<table border=\"1\" class=\"dataframe\">\n",
       "  <thead>\n",
       "    <tr style=\"text-align: right;\">\n",
       "      <th></th>\n",
       "      <th>NU_INSCRICAO</th>\n",
       "      <th>NU_NOTA_MT</th>\n",
       "      <th>NU_NOTA_REDACAO</th>\n",
       "      <th>Q001</th>\n",
       "      <th>Q002</th>\n",
       "      <th>NO_Q001</th>\n",
       "      <th>NO_Q002</th>\n",
       "    </tr>\n",
       "  </thead>\n",
       "  <tbody>\n",
       "    <tr>\n",
       "      <th>3</th>\n",
       "      <td>190001199383</td>\n",
       "      <td>392.0</td>\n",
       "      <td>460.0</td>\n",
       "      <td>C</td>\n",
       "      <td>E</td>\n",
       "      <td>Completou a 4ª série/5º ano, mas não completou...</td>\n",
       "      <td>Completou o Ensino Médio, mas não completou a ...</td>\n",
       "    </tr>\n",
       "    <tr>\n",
       "      <th>4</th>\n",
       "      <td>190001237802</td>\n",
       "      <td>677.0</td>\n",
       "      <td>860.0</td>\n",
       "      <td>E</td>\n",
       "      <td>E</td>\n",
       "      <td>Completou o Ensino Médio, mas não completou a ...</td>\n",
       "      <td>Completou o Ensino Médio, mas não completou a ...</td>\n",
       "    </tr>\n",
       "    <tr>\n",
       "      <th>5</th>\n",
       "      <td>190001782198</td>\n",
       "      <td>675.3</td>\n",
       "      <td>800.0</td>\n",
       "      <td>B</td>\n",
       "      <td>B</td>\n",
       "      <td>Não completou a 4ª série/5º ano do Ensino Fund...</td>\n",
       "      <td>Não completou a 4ª série/5º ano do Ensino Fund...</td>\n",
       "    </tr>\n",
       "    <tr>\n",
       "      <th>6</th>\n",
       "      <td>190001421548</td>\n",
       "      <td>594.7</td>\n",
       "      <td>600.0</td>\n",
       "      <td>E</td>\n",
       "      <td>B</td>\n",
       "      <td>Completou o Ensino Médio, mas não completou a ...</td>\n",
       "      <td>Não completou a 4ª série/5º ano do Ensino Fund...</td>\n",
       "    </tr>\n",
       "    <tr>\n",
       "      <th>9</th>\n",
       "      <td>190001592266</td>\n",
       "      <td>480.7</td>\n",
       "      <td>400.0</td>\n",
       "      <td>E</td>\n",
       "      <td>E</td>\n",
       "      <td>Completou o Ensino Médio, mas não completou a ...</td>\n",
       "      <td>Completou o Ensino Médio, mas não completou a ...</td>\n",
       "    </tr>\n",
       "  </tbody>\n",
       "</table>\n",
       "</div>"
      ],
      "text/plain": [
       "   NU_INSCRICAO  NU_NOTA_MT  NU_NOTA_REDACAO Q001 Q002  \\\n",
       "3  190001199383       392.0            460.0    C    E   \n",
       "4  190001237802       677.0            860.0    E    E   \n",
       "5  190001782198       675.3            800.0    B    B   \n",
       "6  190001421548       594.7            600.0    E    B   \n",
       "9  190001592266       480.7            400.0    E    E   \n",
       "\n",
       "                                             NO_Q001  \\\n",
       "3  Completou a 4ª série/5º ano, mas não completou...   \n",
       "4  Completou o Ensino Médio, mas não completou a ...   \n",
       "5  Não completou a 4ª série/5º ano do Ensino Fund...   \n",
       "6  Completou o Ensino Médio, mas não completou a ...   \n",
       "9  Completou o Ensino Médio, mas não completou a ...   \n",
       "\n",
       "                                             NO_Q002  \n",
       "3  Completou o Ensino Médio, mas não completou a ...  \n",
       "4  Completou o Ensino Médio, mas não completou a ...  \n",
       "5  Não completou a 4ª série/5º ano do Ensino Fund...  \n",
       "6  Não completou a 4ª série/5º ano do Ensino Fund...  \n",
       "9  Completou o Ensino Médio, mas não completou a ...  "
      ]
     },
     "execution_count": 11,
     "metadata": {},
     "output_type": "execute_result"
    }
   ],
   "source": [
    "microdadosEnemSelecionados.head()"
   ]
  },
  {
   "cell_type": "markdown",
   "metadata": {},
   "source": [
    "##### Passo 3 - Comparando a distribuição do nível de escolaridade PaixMãe no conjunto de dados\n",
    "Utilizando os métodos do Dataframe filter(), groupby(), count(), sort_values()\n",
    "\n",
    "documentação disponível em:\n",
    "\n",
    "1 - Distribuição dos candidatos do ENEM 2018 por escolaridade do Pai"
   ]
  },
  {
   "cell_type": "code",
   "execution_count": 16,
   "metadata": {},
   "outputs": [
    {
     "data": {
      "text/html": [
       "<div>\n",
       "<style scoped>\n",
       "    .dataframe tbody tr th:only-of-type {\n",
       "        vertical-align: middle;\n",
       "    }\n",
       "\n",
       "    .dataframe tbody tr th {\n",
       "        vertical-align: top;\n",
       "    }\n",
       "\n",
       "    .dataframe thead th {\n",
       "        text-align: right;\n",
       "    }\n",
       "</style>\n",
       "<table border=\"1\" class=\"dataframe\">\n",
       "  <thead>\n",
       "    <tr style=\"text-align: right;\">\n",
       "      <th></th>\n",
       "      <th>NU_INSCRICAO</th>\n",
       "    </tr>\n",
       "    <tr>\n",
       "      <th>NO_Q001</th>\n",
       "      <th></th>\n",
       "    </tr>\n",
       "  </thead>\n",
       "  <tbody>\n",
       "    <tr>\n",
       "      <th>Completou o Ensino Médio, mas não completou a Faculdade.</th>\n",
       "      <td>1006235</td>\n",
       "    </tr>\n",
       "    <tr>\n",
       "      <th>Não completou a 4ª série/5º ano do Ensino Fundamental.</th>\n",
       "      <td>752547</td>\n",
       "    </tr>\n",
       "    <tr>\n",
       "      <th>Completou a 4ª série/5º ano, mas não completou a 8ª série/9º ano do Ensino Fundamental.</th>\n",
       "      <td>515771</td>\n",
       "    </tr>\n",
       "    <tr>\n",
       "      <th>Completou a 8ª série/9º ano do Ensino Fundamental, mas não completou o Ensino Médio.</th>\n",
       "      <td>433183</td>\n",
       "    </tr>\n",
       "    <tr>\n",
       "      <th>Completou a Faculdade, mas não completou a Pós-graduação.</th>\n",
       "      <td>308305</td>\n",
       "    </tr>\n",
       "    <tr>\n",
       "      <th>Não sei.</th>\n",
       "      <td>306162</td>\n",
       "    </tr>\n",
       "    <tr>\n",
       "      <th>Completou a Pós-graduação.</th>\n",
       "      <td>193523</td>\n",
       "    </tr>\n",
       "    <tr>\n",
       "      <th>Nunca estudou.</th>\n",
       "      <td>186183</td>\n",
       "    </tr>\n",
       "  </tbody>\n",
       "</table>\n",
       "</div>"
      ],
      "text/plain": [
       "                                                    NU_INSCRICAO\n",
       "NO_Q001                                                         \n",
       "Completou o Ensino Médio, mas não completou a F...       1006235\n",
       "Não completou a 4ª série/5º ano do Ensino Funda...        752547\n",
       "Completou a 4ª série/5º ano, mas não completou ...        515771\n",
       "Completou a 8ª série/9º ano do Ensino Fundament...        433183\n",
       "Completou a Faculdade, mas não completou a Pós-...        308305\n",
       "Não sei.                                                  306162\n",
       "Completou a Pós-graduação.                                193523\n",
       "Nunca estudou.                                            186183"
      ]
     },
     "execution_count": 16,
     "metadata": {},
     "output_type": "execute_result"
    }
   ],
   "source": [
    "microdadosEnemSelecionados.filter(items=['NU_INSCRICAO', 'NO_Q001']).groupby('NO_Q001').count().sort_values('NU_INSCRICAO', ascending = False)"
   ]
  },
  {
   "cell_type": "markdown",
   "metadata": {},
   "source": [
    "2 - Distribuição dos candidatos do ENEM 2018 por escolaridade do Mãe"
   ]
  },
  {
   "cell_type": "code",
   "execution_count": 17,
   "metadata": {},
   "outputs": [
    {
     "data": {
      "text/html": [
       "<div>\n",
       "<style scoped>\n",
       "    .dataframe tbody tr th:only-of-type {\n",
       "        vertical-align: middle;\n",
       "    }\n",
       "\n",
       "    .dataframe tbody tr th {\n",
       "        vertical-align: top;\n",
       "    }\n",
       "\n",
       "    .dataframe thead th {\n",
       "        text-align: right;\n",
       "    }\n",
       "</style>\n",
       "<table border=\"1\" class=\"dataframe\">\n",
       "  <thead>\n",
       "    <tr style=\"text-align: right;\">\n",
       "      <th></th>\n",
       "      <th>NU_INSCRICAO</th>\n",
       "    </tr>\n",
       "    <tr>\n",
       "      <th>NO_Q002</th>\n",
       "      <th></th>\n",
       "    </tr>\n",
       "  </thead>\n",
       "  <tbody>\n",
       "    <tr>\n",
       "      <th>Completou o Ensino Médio, mas não completou a Faculdade.</th>\n",
       "      <td>1234749</td>\n",
       "    </tr>\n",
       "    <tr>\n",
       "      <th>Não completou a 4ª série/5º ano do Ensino Fundamental.</th>\n",
       "      <td>551509</td>\n",
       "    </tr>\n",
       "    <tr>\n",
       "      <th>Completou a 8ª série/9º ano do Ensino Fundamental, mas não completou o Ensino Médio.</th>\n",
       "      <td>475767</td>\n",
       "    </tr>\n",
       "    <tr>\n",
       "      <th>Completou a 4ª série/5º ano, mas não completou a 8ª série/9º ano do Ensino Fundamental.</th>\n",
       "      <td>471811</td>\n",
       "    </tr>\n",
       "    <tr>\n",
       "      <th>Completou a Faculdade, mas não completou a Pós-graduação.</th>\n",
       "      <td>416276</td>\n",
       "    </tr>\n",
       "    <tr>\n",
       "      <th>Completou a Pós-graduação.</th>\n",
       "      <td>333148</td>\n",
       "    </tr>\n",
       "    <tr>\n",
       "      <th>Nunca estudou.</th>\n",
       "      <td>121017</td>\n",
       "    </tr>\n",
       "    <tr>\n",
       "      <th>Não sei.</th>\n",
       "      <td>97632</td>\n",
       "    </tr>\n",
       "  </tbody>\n",
       "</table>\n",
       "</div>"
      ],
      "text/plain": [
       "                                                    NU_INSCRICAO\n",
       "NO_Q002                                                         \n",
       "Completou o Ensino Médio, mas não completou a F...       1234749\n",
       "Não completou a 4ª série/5º ano do Ensino Funda...        551509\n",
       "Completou a 8ª série/9º ano do Ensino Fundament...        475767\n",
       "Completou a 4ª série/5º ano, mas não completou ...        471811\n",
       "Completou a Faculdade, mas não completou a Pós-...        416276\n",
       "Completou a Pós-graduação.                                333148\n",
       "Nunca estudou.                                            121017\n",
       "Não sei.                                                   97632"
      ]
     },
     "execution_count": 17,
     "metadata": {},
     "output_type": "execute_result"
    }
   ],
   "source": [
    "microdadosEnemSelecionados.filter(items=['NU_INSCRICAO', 'NO_Q002']).groupby('NO_Q002').count().sort_values('NU_INSCRICAO', ascending = False)"
   ]
  },
  {
   "cell_type": "markdown",
   "metadata": {},
   "source": [
    "##### Passo 4 - Olhando o desempenho em matemática segundo a escolaridade PaixMãe\n",
    "\n",
    "1 - Por escolaridade do Pai"
   ]
  },
  {
   "cell_type": "code",
   "execution_count": 18,
   "metadata": {},
   "outputs": [
    {
     "data": {
      "text/html": [
       "<div>\n",
       "<style scoped>\n",
       "    .dataframe tbody tr th:only-of-type {\n",
       "        vertical-align: middle;\n",
       "    }\n",
       "\n",
       "    .dataframe tbody tr th {\n",
       "        vertical-align: top;\n",
       "    }\n",
       "\n",
       "    .dataframe thead th {\n",
       "        text-align: right;\n",
       "    }\n",
       "</style>\n",
       "<table border=\"1\" class=\"dataframe\">\n",
       "  <thead>\n",
       "    <tr style=\"text-align: right;\">\n",
       "      <th></th>\n",
       "      <th>NU_NOTA_MT</th>\n",
       "    </tr>\n",
       "    <tr>\n",
       "      <th>NO_Q001</th>\n",
       "      <th></th>\n",
       "    </tr>\n",
       "  </thead>\n",
       "  <tbody>\n",
       "    <tr>\n",
       "      <th>Completou a Pós-graduação.</th>\n",
       "      <td>624.117908</td>\n",
       "    </tr>\n",
       "    <tr>\n",
       "      <th>Completou a Faculdade, mas não completou a Pós-graduação.</th>\n",
       "      <td>600.306673</td>\n",
       "    </tr>\n",
       "    <tr>\n",
       "      <th>Completou o Ensino Médio, mas não completou a Faculdade.</th>\n",
       "      <td>538.924341</td>\n",
       "    </tr>\n",
       "    <tr>\n",
       "      <th>Completou a 8ª série/9º ano do Ensino Fundamental, mas não completou o Ensino Médio.</th>\n",
       "      <td>515.746130</td>\n",
       "    </tr>\n",
       "    <tr>\n",
       "      <th>Completou a 4ª série/5º ano, mas não completou a 8ª série/9º ano do Ensino Fundamental.</th>\n",
       "      <td>505.399008</td>\n",
       "    </tr>\n",
       "    <tr>\n",
       "      <th>Não sei.</th>\n",
       "      <td>495.476300</td>\n",
       "    </tr>\n",
       "    <tr>\n",
       "      <th>Não completou a 4ª série/5º ano do Ensino Fundamental.</th>\n",
       "      <td>486.457007</td>\n",
       "    </tr>\n",
       "    <tr>\n",
       "      <th>Nunca estudou.</th>\n",
       "      <td>466.099282</td>\n",
       "    </tr>\n",
       "  </tbody>\n",
       "</table>\n",
       "</div>"
      ],
      "text/plain": [
       "                                                    NU_NOTA_MT\n",
       "NO_Q001                                                       \n",
       "Completou a Pós-graduação.                          624.117908\n",
       "Completou a Faculdade, mas não completou a Pós-...  600.306673\n",
       "Completou o Ensino Médio, mas não completou a F...  538.924341\n",
       "Completou a 8ª série/9º ano do Ensino Fundament...  515.746130\n",
       "Completou a 4ª série/5º ano, mas não completou ...  505.399008\n",
       "Não sei.                                            495.476300\n",
       "Não completou a 4ª série/5º ano do Ensino Funda...  486.457007\n",
       "Nunca estudou.                                      466.099282"
      ]
     },
     "execution_count": 18,
     "metadata": {},
     "output_type": "execute_result"
    }
   ],
   "source": [
    "microdadosEnemSelecionados.filter(items=['NU_NOTA_MT','NO_Q001']).groupby('NO_Q001')\\\n",
    "                                                                 .mean()\\\n",
    "                                                                 .sort_values(by='NU_NOTA_MT', ascending= False)"
   ]
  },
  {
   "cell_type": "markdown",
   "metadata": {},
   "source": [
    "2 - Por escolaridade do Mãe"
   ]
  },
  {
   "cell_type": "code",
   "execution_count": 19,
   "metadata": {},
   "outputs": [
    {
     "data": {
      "text/html": [
       "<div>\n",
       "<style scoped>\n",
       "    .dataframe tbody tr th:only-of-type {\n",
       "        vertical-align: middle;\n",
       "    }\n",
       "\n",
       "    .dataframe tbody tr th {\n",
       "        vertical-align: top;\n",
       "    }\n",
       "\n",
       "    .dataframe thead th {\n",
       "        text-align: right;\n",
       "    }\n",
       "</style>\n",
       "<table border=\"1\" class=\"dataframe\">\n",
       "  <thead>\n",
       "    <tr style=\"text-align: right;\">\n",
       "      <th></th>\n",
       "      <th>NU_NOTA_MT</th>\n",
       "    </tr>\n",
       "    <tr>\n",
       "      <th>NO_Q002</th>\n",
       "      <th></th>\n",
       "    </tr>\n",
       "  </thead>\n",
       "  <tbody>\n",
       "    <tr>\n",
       "      <th>Completou a Pós-graduação.</th>\n",
       "      <td>598.918643</td>\n",
       "    </tr>\n",
       "    <tr>\n",
       "      <th>Completou a Faculdade, mas não completou a Pós-graduação.</th>\n",
       "      <td>583.322703</td>\n",
       "    </tr>\n",
       "    <tr>\n",
       "      <th>Completou o Ensino Médio, mas não completou a Faculdade.</th>\n",
       "      <td>528.316576</td>\n",
       "    </tr>\n",
       "    <tr>\n",
       "      <th>Completou a 8ª série/9º ano do Ensino Fundamental, mas não completou o Ensino Médio.</th>\n",
       "      <td>505.048227</td>\n",
       "    </tr>\n",
       "    <tr>\n",
       "      <th>Completou a 4ª série/5º ano, mas não completou a 8ª série/9º ano do Ensino Fundamental.</th>\n",
       "      <td>496.049951</td>\n",
       "    </tr>\n",
       "    <tr>\n",
       "      <th>Não sei.</th>\n",
       "      <td>484.995799</td>\n",
       "    </tr>\n",
       "    <tr>\n",
       "      <th>Não completou a 4ª série/5º ano do Ensino Fundamental.</th>\n",
       "      <td>480.072086</td>\n",
       "    </tr>\n",
       "    <tr>\n",
       "      <th>Nunca estudou.</th>\n",
       "      <td>459.860654</td>\n",
       "    </tr>\n",
       "  </tbody>\n",
       "</table>\n",
       "</div>"
      ],
      "text/plain": [
       "                                                    NU_NOTA_MT\n",
       "NO_Q002                                                       \n",
       "Completou a Pós-graduação.                          598.918643\n",
       "Completou a Faculdade, mas não completou a Pós-...  583.322703\n",
       "Completou o Ensino Médio, mas não completou a F...  528.316576\n",
       "Completou a 8ª série/9º ano do Ensino Fundament...  505.048227\n",
       "Completou a 4ª série/5º ano, mas não completou ...  496.049951\n",
       "Não sei.                                            484.995799\n",
       "Não completou a 4ª série/5º ano do Ensino Funda...  480.072086\n",
       "Nunca estudou.                                      459.860654"
      ]
     },
     "execution_count": 19,
     "metadata": {},
     "output_type": "execute_result"
    }
   ],
   "source": [
    "microdadosEnemSelecionados.filter(items=['NU_NOTA_MT','NO_Q002']).groupby('NO_Q002').mean().sort_values(by='NU_NOTA_MT', ascending= False)"
   ]
  },
  {
   "cell_type": "markdown",
   "metadata": {},
   "source": [
    "##### Passo 5 - Olhando o desempenho em redação segundo a escolaridade PaixMãe\n",
    "\n",
    "1 - Por escolaridade do Pai"
   ]
  },
  {
   "cell_type": "code",
   "execution_count": 21,
   "metadata": {},
   "outputs": [
    {
     "data": {
      "text/html": [
       "<div>\n",
       "<style scoped>\n",
       "    .dataframe tbody tr th:only-of-type {\n",
       "        vertical-align: middle;\n",
       "    }\n",
       "\n",
       "    .dataframe tbody tr th {\n",
       "        vertical-align: top;\n",
       "    }\n",
       "\n",
       "    .dataframe thead th {\n",
       "        text-align: right;\n",
       "    }\n",
       "</style>\n",
       "<table border=\"1\" class=\"dataframe\">\n",
       "  <thead>\n",
       "    <tr style=\"text-align: right;\">\n",
       "      <th></th>\n",
       "      <th>NU_NOTA_REDACAO</th>\n",
       "    </tr>\n",
       "    <tr>\n",
       "      <th>NO_Q001</th>\n",
       "      <th></th>\n",
       "    </tr>\n",
       "  </thead>\n",
       "  <tbody>\n",
       "    <tr>\n",
       "      <th>Completou a Pós-graduação.</th>\n",
       "      <td>700.471365</td>\n",
       "    </tr>\n",
       "    <tr>\n",
       "      <th>Completou a Faculdade, mas não completou a Pós-graduação.</th>\n",
       "      <td>673.472243</td>\n",
       "    </tr>\n",
       "    <tr>\n",
       "      <th>Completou o Ensino Médio, mas não completou a Faculdade.</th>\n",
       "      <td>604.807923</td>\n",
       "    </tr>\n",
       "    <tr>\n",
       "      <th>Completou a 8ª série/9º ano do Ensino Fundamental, mas não completou o Ensino Médio.</th>\n",
       "      <td>574.549648</td>\n",
       "    </tr>\n",
       "    <tr>\n",
       "      <th>Completou a 4ª série/5º ano, mas não completou a 8ª série/9º ano do Ensino Fundamental.</th>\n",
       "      <td>558.369005</td>\n",
       "    </tr>\n",
       "    <tr>\n",
       "      <th>Não sei.</th>\n",
       "      <td>537.055676</td>\n",
       "    </tr>\n",
       "    <tr>\n",
       "      <th>Não completou a 4ª série/5º ano do Ensino Fundamental.</th>\n",
       "      <td>532.602535</td>\n",
       "    </tr>\n",
       "    <tr>\n",
       "      <th>Nunca estudou.</th>\n",
       "      <td>496.081597</td>\n",
       "    </tr>\n",
       "  </tbody>\n",
       "</table>\n",
       "</div>"
      ],
      "text/plain": [
       "                                                    NU_NOTA_REDACAO\n",
       "NO_Q001                                                            \n",
       "Completou a Pós-graduação.                               700.471365\n",
       "Completou a Faculdade, mas não completou a Pós-...       673.472243\n",
       "Completou o Ensino Médio, mas não completou a F...       604.807923\n",
       "Completou a 8ª série/9º ano do Ensino Fundament...       574.549648\n",
       "Completou a 4ª série/5º ano, mas não completou ...       558.369005\n",
       "Não sei.                                                 537.055676\n",
       "Não completou a 4ª série/5º ano do Ensino Funda...       532.602535\n",
       "Nunca estudou.                                           496.081597"
      ]
     },
     "execution_count": 21,
     "metadata": {},
     "output_type": "execute_result"
    }
   ],
   "source": [
    "microdadosEnemSelecionados.filter(items=['NU_NOTA_REDACAO','NO_Q001']).groupby('NO_Q001')\\\n",
    "                                                                      .mean()\\\n",
    "                                                                      .sort_values(by='NU_NOTA_REDACAO', ascending= False)"
   ]
  },
  {
   "cell_type": "code",
   "execution_count": 22,
   "metadata": {},
   "outputs": [
    {
     "data": {
      "text/html": [
       "<div>\n",
       "<style scoped>\n",
       "    .dataframe tbody tr th:only-of-type {\n",
       "        vertical-align: middle;\n",
       "    }\n",
       "\n",
       "    .dataframe tbody tr th {\n",
       "        vertical-align: top;\n",
       "    }\n",
       "\n",
       "    .dataframe thead th {\n",
       "        text-align: right;\n",
       "    }\n",
       "</style>\n",
       "<table border=\"1\" class=\"dataframe\">\n",
       "  <thead>\n",
       "    <tr style=\"text-align: right;\">\n",
       "      <th></th>\n",
       "      <th>NU_NOTA_REDACAO</th>\n",
       "    </tr>\n",
       "    <tr>\n",
       "      <th>NO_Q002</th>\n",
       "      <th></th>\n",
       "    </tr>\n",
       "  </thead>\n",
       "  <tbody>\n",
       "    <tr>\n",
       "      <th>Completou a Pós-graduação.</th>\n",
       "      <td>676.235007</td>\n",
       "    </tr>\n",
       "    <tr>\n",
       "      <th>Completou a Faculdade, mas não completou a Pós-graduação.</th>\n",
       "      <td>655.619877</td>\n",
       "    </tr>\n",
       "    <tr>\n",
       "      <th>Completou o Ensino Médio, mas não completou a Faculdade.</th>\n",
       "      <td>591.132044</td>\n",
       "    </tr>\n",
       "    <tr>\n",
       "      <th>Completou a 8ª série/9º ano do Ensino Fundamental, mas não completou o Ensino Médio.</th>\n",
       "      <td>558.915688</td>\n",
       "    </tr>\n",
       "    <tr>\n",
       "      <th>Completou a 4ª série/5º ano, mas não completou a 8ª série/9º ano do Ensino Fundamental.</th>\n",
       "      <td>543.681474</td>\n",
       "    </tr>\n",
       "    <tr>\n",
       "      <th>Não completou a 4ª série/5º ano do Ensino Fundamental.</th>\n",
       "      <td>522.131933</td>\n",
       "    </tr>\n",
       "    <tr>\n",
       "      <th>Não sei.</th>\n",
       "      <td>505.261185</td>\n",
       "    </tr>\n",
       "    <tr>\n",
       "      <th>Nunca estudou.</th>\n",
       "      <td>482.739450</td>\n",
       "    </tr>\n",
       "  </tbody>\n",
       "</table>\n",
       "</div>"
      ],
      "text/plain": [
       "                                                    NU_NOTA_REDACAO\n",
       "NO_Q002                                                            \n",
       "Completou a Pós-graduação.                               676.235007\n",
       "Completou a Faculdade, mas não completou a Pós-...       655.619877\n",
       "Completou o Ensino Médio, mas não completou a F...       591.132044\n",
       "Completou a 8ª série/9º ano do Ensino Fundament...       558.915688\n",
       "Completou a 4ª série/5º ano, mas não completou ...       543.681474\n",
       "Não completou a 4ª série/5º ano do Ensino Funda...       522.131933\n",
       "Não sei.                                                 505.261185\n",
       "Nunca estudou.                                           482.739450"
      ]
     },
     "execution_count": 22,
     "metadata": {},
     "output_type": "execute_result"
    }
   ],
   "source": [
    "microdadosEnemSelecionados.filter(items=['NU_NOTA_REDACAO','NO_Q002']).groupby('NO_Q002').mean().sort_values(by='NU_NOTA_REDACAO', ascending= False)"
   ]
  },
  {
   "cell_type": "code",
   "execution_count": 25,
   "metadata": {},
   "outputs": [],
   "source": [
    "q002redacao = microdadosEnemSelecionados.filter(items=['NU_NOTA_REDACAO','NO_Q002']).groupby('NO_Q002').mean().sort_values(by='NU_NOTA_REDACAO', ascending= False)\n",
    "q001redacao = microdadosEnemSelecionados.filter(items=['NU_NOTA_REDACAO','NO_Q001']).groupby('NO_Q001').mean().sort_values(by='NU_NOTA_REDACAO', ascending= False)\n",
    "q002matematica = microdadosEnemSelecionados.filter(items=['NU_NOTA_MT','NO_Q002']).groupby('NO_Q002').mean().sort_values(by='NU_NOTA_MT', ascending= False)\n",
    "q001matematica = microdadosEnemSelecionados.filter(items=['NU_NOTA_MT','NO_Q001']).groupby('NO_Q001').mean().sort_values(by='NU_NOTA_MT', ascending= False)"
   ]
  },
  {
   "cell_type": "code",
   "execution_count": 26,
   "metadata": {},
   "outputs": [
    {
     "data": {
      "text/plain": [
       "<AxesSubplot:xlabel='NO_Q001'>"
      ]
     },
     "execution_count": 26,
     "metadata": {},
     "output_type": "execute_result"
    },
    {
     "data": {
      "image/png": "[encoded data removed]",
      "text/plain": [
       "<Figure size 432x288 with 1 Axes>"
      ]
     },
     "metadata": {
      "needs_background": "light"
     },
     "output_type": "display_data"
    },
    {
     "data": {
      "image/png": "[encoded data removed]",
      "text/plain": [
       "<Figure size 432x288 with 1 Axes>"
      ]
     },
     "metadata": {
      "needs_background": "light"
     },
     "output_type": "display_data"
    },
    {
     "data": {
      "image/png": "[encoded data removed]",
      "text/plain": [
       "<Figure size 432x288 with 1 Axes>"
      ]
     },
     "metadata": {
      "needs_background": "light"
     },
     "output_type": "display_data"
    },
    {
     "data": {
      "image/png": "[encoded data removed]",
      "text/plain": [
       "<Figure size 432x288 with 1 Axes>"
      ]
     },
     "metadata": {
      "needs_background": "light"
     },
     "output_type": "display_data"
    }
   ],
   "source": [
    "q002redacao.plot()\n",
    "q001redacao.plot()\n",
    "q002matematica.plot()\n",
    "q001matematica.plot()"
   ]
  },
  {
   "cell_type": "code",
   "execution_count": 31,
   "metadata": {},
   "outputs": [],
   "source": [
    "describeQ001 = microdadosEnemSelecionados.filter(items=['NU_NOTA_REDACAO','NO_Q001']).groupby('NO_Q001').describe()"
   ]
  },
  {
   "cell_type": "code",
   "execution_count": 32,
   "metadata": {},
   "outputs": [
    {
     "data": {
      "text/html": [
       "<div>\n",
       "<style scoped>\n",
       "    .dataframe tbody tr th:only-of-type {\n",
       "        vertical-align: middle;\n",
       "    }\n",
       "\n",
       "    .dataframe tbody tr th {\n",
       "        vertical-align: top;\n",
       "    }\n",
       "\n",
       "    .dataframe thead tr th {\n",
       "        text-align: left;\n",
       "    }\n",
       "\n",
       "    .dataframe thead tr:last-of-type th {\n",
       "        text-align: right;\n",
       "    }\n",
       "</style>\n",
       "<table border=\"1\" class=\"dataframe\">\n",
       "  <thead>\n",
       "    <tr>\n",
       "      <th></th>\n",
       "      <th colspan=\"8\" halign=\"left\">NU_NOTA_REDACAO</th>\n",
       "    </tr>\n",
       "    <tr>\n",
       "      <th></th>\n",
       "      <th>count</th>\n",
       "      <th>mean</th>\n",
       "      <th>std</th>\n",
       "      <th>min</th>\n",
       "      <th>25%</th>\n",
       "      <th>50%</th>\n",
       "      <th>75%</th>\n",
       "      <th>max</th>\n",
       "    </tr>\n",
       "    <tr>\n",
       "      <th>NO_Q001</th>\n",
       "      <th></th>\n",
       "      <th></th>\n",
       "      <th></th>\n",
       "      <th></th>\n",
       "      <th></th>\n",
       "      <th></th>\n",
       "      <th></th>\n",
       "      <th></th>\n",
       "    </tr>\n",
       "  </thead>\n",
       "  <tbody>\n",
       "    <tr>\n",
       "      <th>Completou a 4ª série/5º ano, mas não completou a 8ª série/9º ano do Ensino Fundamental.</th>\n",
       "      <td>515771.0</td>\n",
       "      <td>558.369005</td>\n",
       "      <td>175.472919</td>\n",
       "      <td>0.0</td>\n",
       "      <td>480.0</td>\n",
       "      <td>560.0</td>\n",
       "      <td>640.0</td>\n",
       "      <td>1000.0</td>\n",
       "    </tr>\n",
       "    <tr>\n",
       "      <th>Completou a 8ª série/9º ano do Ensino Fundamental, mas não completou o Ensino Médio.</th>\n",
       "      <td>433183.0</td>\n",
       "      <td>574.549648</td>\n",
       "      <td>176.013256</td>\n",
       "      <td>0.0</td>\n",
       "      <td>500.0</td>\n",
       "      <td>580.0</td>\n",
       "      <td>680.0</td>\n",
       "      <td>1000.0</td>\n",
       "    </tr>\n",
       "    <tr>\n",
       "      <th>Completou a Faculdade, mas não completou a Pós-graduação.</th>\n",
       "      <td>308305.0</td>\n",
       "      <td>673.472243</td>\n",
       "      <td>170.941585</td>\n",
       "      <td>0.0</td>\n",
       "      <td>580.0</td>\n",
       "      <td>660.0</td>\n",
       "      <td>800.0</td>\n",
       "      <td>1000.0</td>\n",
       "    </tr>\n",
       "    <tr>\n",
       "      <th>Completou a Pós-graduação.</th>\n",
       "      <td>193523.0</td>\n",
       "      <td>700.471365</td>\n",
       "      <td>169.925738</td>\n",
       "      <td>0.0</td>\n",
       "      <td>600.0</td>\n",
       "      <td>700.0</td>\n",
       "      <td>840.0</td>\n",
       "      <td>1000.0</td>\n",
       "    </tr>\n",
       "    <tr>\n",
       "      <th>Completou o Ensino Médio, mas não completou a Faculdade.</th>\n",
       "      <td>1006235.0</td>\n",
       "      <td>604.807923</td>\n",
       "      <td>175.241440</td>\n",
       "      <td>0.0</td>\n",
       "      <td>520.0</td>\n",
       "      <td>600.0</td>\n",
       "      <td>700.0</td>\n",
       "      <td>1000.0</td>\n",
       "    </tr>\n",
       "    <tr>\n",
       "      <th>Nunca estudou.</th>\n",
       "      <td>186183.0</td>\n",
       "      <td>496.081597</td>\n",
       "      <td>180.970306</td>\n",
       "      <td>0.0</td>\n",
       "      <td>420.0</td>\n",
       "      <td>520.0</td>\n",
       "      <td>600.0</td>\n",
       "      <td>1000.0</td>\n",
       "    </tr>\n",
       "    <tr>\n",
       "      <th>Não completou a 4ª série/5º ano do Ensino Fundamental.</th>\n",
       "      <td>752547.0</td>\n",
       "      <td>532.602535</td>\n",
       "      <td>172.019402</td>\n",
       "      <td>0.0</td>\n",
       "      <td>460.0</td>\n",
       "      <td>560.0</td>\n",
       "      <td>620.0</td>\n",
       "      <td>1000.0</td>\n",
       "    </tr>\n",
       "    <tr>\n",
       "      <th>Não sei.</th>\n",
       "      <td>306162.0</td>\n",
       "      <td>537.055676</td>\n",
       "      <td>182.576826</td>\n",
       "      <td>0.0</td>\n",
       "      <td>460.0</td>\n",
       "      <td>560.0</td>\n",
       "      <td>640.0</td>\n",
       "      <td>1000.0</td>\n",
       "    </tr>\n",
       "  </tbody>\n",
       "</table>\n",
       "</div>"
      ],
      "text/plain": [
       "                                                   NU_NOTA_REDACAO  \\\n",
       "                                                             count   \n",
       "NO_Q001                                                              \n",
       "Completou a 4ª série/5º ano, mas não completou ...        515771.0   \n",
       "Completou a 8ª série/9º ano do Ensino Fundament...        433183.0   \n",
       "Completou a Faculdade, mas não completou a Pós-...        308305.0   \n",
       "Completou a Pós-graduação.                                193523.0   \n",
       "Completou o Ensino Médio, mas não completou a F...       1006235.0   \n",
       "Nunca estudou.                                            186183.0   \n",
       "Não completou a 4ª série/5º ano do Ensino Funda...        752547.0   \n",
       "Não sei.                                                  306162.0   \n",
       "\n",
       "                                                                            \\\n",
       "                                                          mean         std   \n",
       "NO_Q001                                                                      \n",
       "Completou a 4ª série/5º ano, mas não completou ...  558.369005  175.472919   \n",
       "Completou a 8ª série/9º ano do Ensino Fundament...  574.549648  176.013256   \n",
       "Completou a Faculdade, mas não completou a Pós-...  673.472243  170.941585   \n",
       "Completou a Pós-graduação.                          700.471365  169.925738   \n",
       "Completou o Ensino Médio, mas não completou a F...  604.807923  175.241440   \n",
       "Nunca estudou.                                      496.081597  180.970306   \n",
       "Não completou a 4ª série/5º ano do Ensino Funda...  532.602535  172.019402   \n",
       "Não sei.                                            537.055676  182.576826   \n",
       "\n",
       "                                                                              \\\n",
       "                                                    min    25%    50%    75%   \n",
       "NO_Q001                                                                        \n",
       "Completou a 4ª série/5º ano, mas não completou ...  0.0  480.0  560.0  640.0   \n",
       "Completou a 8ª série/9º ano do Ensino Fundament...  0.0  500.0  580.0  680.0   \n",
       "Completou a Faculdade, mas não completou a Pós-...  0.0  580.0  660.0  800.0   \n",
       "Completou a Pós-graduação.                          0.0  600.0  700.0  840.0   \n",
       "Completou o Ensino Médio, mas não completou a F...  0.0  520.0  600.0  700.0   \n",
       "Nunca estudou.                                      0.0  420.0  520.0  600.0   \n",
       "Não completou a 4ª série/5º ano do Ensino Funda...  0.0  460.0  560.0  620.0   \n",
       "Não sei.                                            0.0  460.0  560.0  640.0   \n",
       "\n",
       "                                                            \n",
       "                                                       max  \n",
       "NO_Q001                                                     \n",
       "Completou a 4ª série/5º ano, mas não completou ...  1000.0  \n",
       "Completou a 8ª série/9º ano do Ensino Fundament...  1000.0  \n",
       "Completou a Faculdade, mas não completou a Pós-...  1000.0  \n",
       "Completou a Pós-graduação.                          1000.0  \n",
       "Completou o Ensino Médio, mas não completou a F...  1000.0  \n",
       "Nunca estudou.                                      1000.0  \n",
       "Não completou a 4ª série/5º ano do Ensino Funda...  1000.0  \n",
       "Não sei.                                            1000.0  "
      ]
     },
     "execution_count": 32,
     "metadata": {},
     "output_type": "execute_result"
    }
   ],
   "source": [
    "describeQ001"
   ]
  }
 ],
 "metadata": {
  "kernelspec": {
   "display_name": "Python 3.9.7 64-bit",
   "language": "python",
   "name": "python3"
  },
  "language_info": {
   "codemirror_mode": {
    "name": "ipython",
    "version": 3
   },
   "file_extension": ".py",
   "mimetype": "text/x-python",
   "name": "python",
   "nbconvert_exporter": "python",
   "pygments_lexer": "ipython3",
   "version": "3.9.7"
  },
  "orig_nbformat": 4,
  "vscode": {
   "interpreter": {
    "hash": "1b2eb06a5de326adb24407bbe328a241e738eb558a171bbbe20ed85a274c0bef"
   }
  }
 },
 "nbformat": 4,
 "nbformat_minor": 2
}
